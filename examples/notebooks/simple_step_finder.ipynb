{
 "cells": [
  {
   "cell_type": "markdown",
   "metadata": {},
   "source": [
    "## Import investigator package of the PyOTIC software"
   ]
  },
  {
   "cell_type": "code",
   "execution_count": null,
   "metadata": {},
   "outputs": [],
   "source": [
    "# Import os to easily join names of filepaths\n",
    "import os\n",
    "\n",
    "# Add the path of the PyOTIC Software to the system path\n",
    "# Adjust this path to where the PyOTIC Software package is located\n",
    "import sys\n",
    "sys.path.append('../../')\n",
    "\n",
    "#Load investigator package\n",
    "import pyoti\n",
    "pyoti.info()\n",
    "\n",
    "#Create an experiment and open a new temporary experiment dbfile\n",
    "experiment = pyoti.open_experiment()"
   ]
  },
  {
   "cell_type": "markdown",
   "metadata": {},
   "source": [
    "## Create experiment file (or open previously saved one)"
   ]
  },
  {
   "cell_type": "code",
   "execution_count": null,
   "metadata": {},
   "outputs": [],
   "source": [
    "# Choose the path the data should be loaded from\n",
    "#\n",
    "# datadir: The path where the data is located\n",
    "# datafile: The name of the file that contains the data.\n",
    "datadir = '../data/'\n",
    "datafile = 'B01.bin'"
   ]
  },
  {
   "cell_type": "code",
   "execution_count": null,
   "metadata": {},
   "outputs": [],
   "source": [
    "# Define a name for the record (defaults to 'default')\n",
    "name='alpha'\n",
    "\n",
    "# Choose the file, where standard values for the Record are defined\n",
    "cfgfile = '../pyoti/etc/record/ASWAD.cfg'\n",
    "\n",
    "experiment.create_record(name=name, cfgfile=cfgfile, filename=datafile, directory=datadir)"
   ]
  },
  {
   "cell_type": "code",
   "execution_count": null,
   "metadata": {},
   "outputs": [],
   "source": [
    "name = 'used'\n",
    "group = 'selection'\n",
    "parent = 'alpha'\n",
    "\n",
    "experiment.add_group(name, parent, group_type=group)"
   ]
  },
  {
   "cell_type": "markdown",
   "metadata": {},
   "source": [
    "# Simple and fast step detection for SNR >> 1.0"
   ]
  },
  {
   "cell_type": "code",
   "execution_count": null,
   "metadata": {},
   "outputs": [],
   "source": [
    "# Select region to get data from\n",
    "region = 'used'\n",
    "\n",
    "# Get region and motion object, to detect the steps and dwells\n",
    "region = experiment.region(region)\n",
    "motion = pyoti.create_motion(region=region, resolution=40000, impose_dwell_time=4.0, shift_time=0.1)\n",
    "\n",
    "# If you want to include the very first and the very last plateau, uncomment\n",
    "#motion.include_first_last_plateau=True\n",
    "\n",
    "# Show the autodetected plateaus\n",
    "motion.init_rfig(legend=True)"
   ]
  }
 ],
 "metadata": {
  "kernelspec": {
   "display_name": "Python 3",
   "language": "python",
   "name": "python3"
  },
  "language_info": {
   "codemirror_mode": {
    "name": "ipython",
    "version": 3
   },
   "file_extension": ".py",
   "mimetype": "text/x-python",
   "name": "python",
   "nbconvert_exporter": "python",
   "pygments_lexer": "ipython3",
   "version": "3.7.3"
  },
  "widgets": {
   "application/vnd.jupyter.widget-state+json": {
    "state": {},
    "version_major": 2,
    "version_minor": 0
   }
  }
 },
 "nbformat": 4,
 "nbformat_minor": 4
}
