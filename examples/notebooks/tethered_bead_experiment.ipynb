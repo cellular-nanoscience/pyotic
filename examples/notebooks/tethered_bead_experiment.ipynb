{
 "cells": [
  {
   "cell_type": "markdown",
   "metadata": {
    "deletable": true,
    "editable": true
   },
   "source": [
    "\n",
    "## Import investigator package of the PyOTIC software"
   ]
  },
  {
   "cell_type": "code",
   "execution_count": null,
   "metadata": {
    "collapsed": false,
    "deletable": true,
    "editable": true,
    "jupyter": {
     "outputs_hidden": false
    }
   },
   "outputs": [],
   "source": [
    "# Import os to easily join names of filepaths\n",
    "import os\n",
    "\n",
    "# Add the path of the PyOTIC Software to the system path\n",
    "# Adjust this path to where the PyOTIC Software package is located\n",
    "import sys\n",
    "sys.path.append('../../')\n",
    "\n",
    "#Load investigator package\n",
    "import pyoti\n",
    "pyoti.info()\n",
    "\n",
    "#Create an experiment\n",
    "experiment = pyoti.create_experiment()"
   ]
  },
  {
   "cell_type": "markdown",
   "metadata": {
    "deletable": true,
    "editable": true
   },
   "source": [
    "## Create experiment file (or open previously saved one)"
   ]
  },
  {
   "cell_type": "code",
   "execution_count": null,
   "metadata": {
    "collapsed": false,
    "deletable": true,
    "editable": true,
    "jupyter": {
     "outputs_hidden": false
    },
    "scrolled": true
   },
   "outputs": [],
   "source": [
    "# Choose the path, were the experiment should be created (or opened from)\n",
    "#\n",
    "# datadir: The path to where the experiment (and the data) are located\n",
    "# datafile: The name of the file that contains the data. Here it is only used to generate dbfile.\n",
    "#           The data is loaded further down upon creation of a Record.\n",
    "# dbfile: The name of the database file the experiment is saved to (or loaded from).\n",
    "datadir = '../data/'\n",
    "datafile = 'B01.bin'\n",
    "\n",
    "# For the name of the experiment, exchange the extension '.bin' with '.fs'\n",
    "dbfile = os.path.join(datadir, datafile.replace('.bin', '.fs'))\n",
    "\n",
    "# Create/open the experiment dbfile\n",
    "experiment.open(dbfile)\n",
    "\n",
    "#datadir = '/srv/files/common/Practicals/SingleMoleculeBiophysics SS2015/ASWAD 2015-09-24/'\n",
    "#datadir = 'Z:\\\\Practicals\\\\SingleMoleculeBiophysics SS2015\\\\ASWAD 2015-09-24\\\\'"
   ]
  },
  {
   "cell_type": "code",
   "execution_count": null,
   "metadata": {
    "collapsed": false,
    "deletable": true,
    "editable": true,
    "jupyter": {
     "outputs_hidden": false
    }
   },
   "outputs": [],
   "source": [
    "# show status of Records, Views, MultiRegions, and Modifications in experiment\n",
    "experiment.print_status()"
   ]
  },
  {
   "cell_type": "code",
   "execution_count": null,
   "metadata": {
    "collapsed": false,
    "deletable": true,
    "editable": true,
    "jupyter": {
     "outputs_hidden": false
    }
   },
   "outputs": [],
   "source": [
    "# cleanup/pack database file\n",
    "experiment.cleanup()"
   ]
  },
  {
   "cell_type": "code",
   "execution_count": null,
   "metadata": {
    "collapsed": false,
    "deletable": true,
    "editable": true,
    "jupyter": {
     "outputs_hidden": false
    }
   },
   "outputs": [],
   "source": [
    "# save the state of the experiment in the database file\n",
    "experiment.save(pack=True)"
   ]
  },
  {
   "cell_type": "code",
   "execution_count": null,
   "metadata": {
    "collapsed": false,
    "deletable": true,
    "editable": true,
    "jupyter": {
     "outputs_hidden": false
    }
   },
   "outputs": [],
   "source": [
    "# revert changes since last commit of experiment\n",
    "experiment.abort()"
   ]
  },
  {
   "cell_type": "code",
   "execution_count": null,
   "metadata": {
    "collapsed": false,
    "deletable": true,
    "editable": true,
    "jupyter": {
     "outputs_hidden": false
    }
   },
   "outputs": [],
   "source": [
    "# close database file\n",
    "experiment.close()"
   ]
  },
  {
   "cell_type": "markdown",
   "metadata": {
    "deletable": true,
    "editable": true
   },
   "source": [
    "## Create a calibration"
   ]
  },
  {
   "cell_type": "code",
   "execution_count": null,
   "metadata": {
    "collapsed": false,
    "deletable": true,
    "editable": true,
    "jupyter": {
     "outputs_hidden": false
    }
   },
   "outputs": [],
   "source": [
    "# Choose the calibration type that should be created.\n",
    "# See 'pyoti/etc/calibration.cfg' for known types.\n",
    "# If you choose an unknown type, a generic calibration is created.\n",
    "calibration_type='pyoticf'\n",
    "\n",
    "# You can provide a calibration file, where previously stored calibration values are loaded from.\n",
    "# Make sure to set a proper corresponding calibration_type, which will load the files provided.\n",
    "calibdir = os.path.join(\"..\", \"calibration\", \"converted_data\")\n",
    "#calibfile = 'B01__hc_results.txt'\n",
    "calibfile = datafile.replace('.bin', '__hc_results.txt')\n",
    "\n",
    "# Create a calibration and assign it to the variable 'calibration'\n",
    "calibration = pyoti.create_calibration(calibration_type=calibration_type, filename=calibfile, directory=calibdir)\n",
    "\n",
    "#calibdir = os.path.join(datadir, 'analysis')\n",
    "#calibdir = os.path.join('/home/tobiasj/experiments/ASWAD/2013-12-18/flow_cell_c', 'hdcalibration/analysis')\n",
    "#calibdir = '/media/tobiasj/cbd_drive/data/ASWAD/2015-10-28 - unzipping/analysis/'"
   ]
  },
  {
   "cell_type": "markdown",
   "metadata": {
    "deletable": true,
    "editable": true
   },
   "source": [
    "## Create record(s) and add to experiment"
   ]
  },
  {
   "cell_type": "markdown",
   "metadata": {
    "deletable": true,
    "editable": true
   },
   "source": [
    "### Either: Define a generic function to read in the data and create a record:"
   ]
  },
  {
   "cell_type": "code",
   "execution_count": null,
   "metadata": {
    "collapsed": false,
    "deletable": true,
    "editable": true,
    "jupyter": {
     "outputs_hidden": false
    }
   },
   "outputs": [],
   "source": [
    "# Define a name for the record (defaults to 'default')\n",
    "name='alpha'\n",
    "\n",
    "# Define a function that is used to read in the data you want to analyze.\n",
    "# The function needs to receive at least the positional parameter 'filename'.\n",
    "# The return value of the function needs to be the data as a numpy array.\n",
    "# You can (beside other options) use functions that the package numpy offers to read in data:\n",
    "# http://docs.scipy.org/doc/numpy/reference/routines.io.html\n",
    "#\n",
    "# One example, to read in data from a text file with 5 header lines followed by the data,\n",
    "# could look like this:\n",
    "\n",
    "import numpy as np\n",
    "import pyoti.data.labview as lv\n",
    "import os\n",
    "\n",
    "def load_data(filename):\n",
    "    #data = np.loadtxt(filename, skiprows=5)\n",
    "    data = lv.read_labview_bin_data(filename)[:,0:3]\n",
    "    return data\n",
    "\n",
    "# Define the samplingrate (either provide a function or simply a variable).\n",
    "# The function gets executed once, upon initialisation of the record. The\n",
    "# return value of the function (or the value of the variable) gets stored in\n",
    "# the record object:\n",
    "def samplingrate():\n",
    "    samplingrate = 40000.0\n",
    "    return samplingrate\n",
    "#samplingrate = 40000.0\n",
    "\n",
    "# Name the traces here, the load_data() function returns. Make sure the \n",
    "# traces are properly describing the data returned by load_data function.\n",
    "# This definition takes precedence over the traces defined in the\n",
    "# configfile (see below)\n",
    "traces = [ 'psdX', 'psdY', 'psdZ' ]\n",
    "\n",
    "# You can provide a configfile, which, for instance, defines the traces returned by load_data().\n",
    "# If not provided, configfile defaults to '../pyoti/etc/GenericDataFile.cfg'.\n",
    "# You could also create your own setup specific configfile and use GenericDataFile as a template.\n",
    "# Make sure to also add the parameter cfgfile to the function call below, if you define a cfgfile,\n",
    "# like: experiment.create_record(cfgfile=cfgfile, ...)\n",
    "#cfgfile = '../pyoti/etc/record/GenericDataFile.cfg' \n",
    "\n",
    "record = experiment.create_record(name=name, calibration=calibration, traces=traces, load_data=load_data, filename=datafile, directory=datadir, samplingrate=samplingrate)"
   ]
  },
  {
   "cell_type": "markdown",
   "metadata": {
    "deletable": true,
    "editable": true
   },
   "source": [
    "### Or: Read in a record for a predefined setup:"
   ]
  },
  {
   "cell_type": "code",
   "execution_count": null,
   "metadata": {
    "collapsed": false,
    "deletable": true,
    "editable": true,
    "jupyter": {
     "outputs_hidden": false
    }
   },
   "outputs": [],
   "source": [
    "# Define a name for the record (defaults to 'default')\n",
    "name='alpha'\n",
    "\n",
    "# Choose the file, where standard values for the Record are defined\n",
    "cfgfile = '../pyoti/etc/record/ASWAD.cfg'\n",
    "\n",
    "experiment.create_record(name=name, calibration=calibration, cfgfile=cfgfile, filename=datafile, directory=datadir)"
   ]
  },
  {
   "cell_type": "code",
   "execution_count": null,
   "metadata": {
    "collapsed": false,
    "deletable": true,
    "editable": true,
    "jupyter": {
     "outputs_hidden": false
    }
   },
   "outputs": [],
   "source": [
    "# Create/load additional records (e.g. extra_unzipping or beadscan)\n",
    "name = 'beta'\n",
    "extradatadir = datadir\n",
    "extradatafile = 'B01b.bin'\n",
    "\n",
    "experiment.create_record(name=name, calibration=calibration, cfgfile=cfgfile, filename=extradatafile, directory=extradatadir)\n",
    "#experiment.records.beta.calibration = experiment.records.alpha.calibration"
   ]
  },
  {
   "cell_type": "code",
   "execution_count": null,
   "metadata": {
    "collapsed": false,
    "deletable": true,
    "editable": true,
    "jupyter": {
     "outputs_hidden": false
    }
   },
   "outputs": [],
   "source": [
    "name = 'generic'\n",
    "group = 'modification'\n",
    "parent = 'used'\n",
    "\n",
    "traces_apply=['psdX', 'psdYZ']\n",
    "extra_mod_params='factor'\n",
    "import numpy as np\n",
    "\n",
    "def modify(self, data, samples, data_traces, data_index, mod_index):\n",
    "    #   data: Contains the data, indexed by samples and data_traces\n",
    "    #   samples: Is the index of the samples contained in data, which was\n",
    "    #       given/asked by the user/process who called _get_data().\n",
    "    #   data_traces: Contains a list of traces (str) existent in data, which\n",
    "    #       was given/asked by the user/process who called _get_data().\n",
    "    #   data_index: data[:,data_index] gives the data, which is modified by\n",
    "    #       this modification (defined by traces_apply)\n",
    "    #   mod_index: numpy.array(self.traces_apply)[mod_index] gives the traces,\n",
    "    #       which are existent in data and also modified by this modfication\n",
    "    #       self.mod_params[mod_index] gives the mod_params of the traces\n",
    "    #       self.mod_params gives a list of all available mod_parameters\n",
    "    #       self.get_mod_params(names=...) returns a list with the\n",
    "    #       mod_parameters with names=...\n",
    "    #       self.name gives the mod_parameter with name name\n",
    "    #\n",
    "    # Modify and return the data ...\n",
    "    print('Modifying the data ...')\n",
    "    #\n",
    "    #\n",
    "    # A simple example of a modification (subtraction of the mod_param multiplied with\n",
    "    # the extra_mod_param factor from traces):\n",
    "    #data[:, data_index] -= self.mod_params[np.newaxis, mod_index] * self.factor\n",
    "    #\n",
    "    return data\n",
    "\n",
    "experiment.add_group(name, parent, group_type=group, adjust=True, modify=modify, traces_apply=traces_apply, mod_params=extra_mod_params)"
   ]
  },
  {
   "cell_type": "markdown",
   "metadata": {
    "deletable": true,
    "editable": true
   },
   "source": [
    "## Analyse and modify data"
   ]
  },
  {
   "cell_type": "code",
   "execution_count": null,
   "metadata": {
    "collapsed": false,
    "deletable": true,
    "editable": true,
    "jupyter": {
     "outputs_hidden": false
    }
   },
   "outputs": [],
   "source": [
    "name = 'used'\n",
    "group = 'selection'\n",
    "parent = 'alpha'\n",
    "\n",
    "experiment.add_group(name, parent, group_type=group)"
   ]
  },
  {
   "cell_type": "code",
   "execution_count": null,
   "metadata": {
    "collapsed": false,
    "deletable": true,
    "editable": true,
    "jupyter": {
     "outputs_hidden": false
    }
   },
   "outputs": [],
   "source": [
    "name = 'used_beta'\n",
    "group = 'selection'\n",
    "parent = 'beta'\n",
    "\n",
    "experiment.add_group(name, parent, group_type=group)"
   ]
  },
  {
   "cell_type": "code",
   "execution_count": null,
   "metadata": {
    "collapsed": false,
    "deletable": true,
    "editable": true,
    "jupyter": {
     "outputs_hidden": false
    }
   },
   "outputs": [],
   "source": [
    "name = 'offset'\n",
    "group = 'offset'\n",
    "parent = 'used'\n",
    "\n",
    "experiment.add_group(name, parent, group_type=group)"
   ]
  },
  {
   "cell_type": "code",
   "execution_count": null,
   "metadata": {
    "collapsed": false,
    "deletable": true,
    "editable": true,
    "jupyter": {
     "outputs_hidden": false
    }
   },
   "outputs": [],
   "source": [
    "name = 'offset_beta'\n",
    "group = 'offset'\n",
    "parent = 'used_beta'\n",
    "\n",
    "experiment.add_group(name, parent, group_type=group)"
   ]
  },
  {
   "cell_type": "code",
   "execution_count": null,
   "metadata": {
    "collapsed": false,
    "deletable": true,
    "editable": true,
    "jupyter": {
     "outputs_hidden": false
    }
   },
   "outputs": [],
   "source": [
    "experiment.concatenate('offset_concatenated', 'offset', 'offset_beta')"
   ]
  },
  {
   "cell_type": "code",
   "execution_count": null,
   "metadata": {
    "collapsed": false,
    "deletable": true,
    "editable": true,
    "jupyter": {
     "outputs_hidden": false
    }
   },
   "outputs": [],
   "source": [
    "name = 'touchdown'\n",
    "group = 'touchdown'\n",
    "parent = 'offset'\n",
    "\n",
    "experiment.add_group(name, parent, group_type=group)"
   ]
  },
  {
   "cell_type": "code",
   "execution_count": null,
   "metadata": {
    "collapsed": true,
    "deletable": true,
    "editable": true,
    "jupyter": {
     "outputs_hidden": true
    }
   },
   "outputs": [],
   "source": [
    "experiment.replace_in('touchdown', 'offset', 'offset_concatenated')\n",
    "experiment.replace_in('touchdown_mod', 'offset', 'offset_concatenated')"
   ]
  },
  {
   "cell_type": "code",
   "execution_count": null,
   "metadata": {
    "collapsed": false,
    "deletable": true,
    "editable": true,
    "jupyter": {
     "outputs_hidden": false
    }
   },
   "outputs": [],
   "source": [
    "name = 'beadscan'\n",
    "group = 'beadscan'\n",
    "parent = 'touchdown'\n",
    "\n",
    "experiment.add_group(name, parent, group_type=group)"
   ]
  },
  {
   "cell_type": "code",
   "execution_count": null,
   "metadata": {
    "collapsed": true,
    "deletable": true,
    "editable": true,
    "jupyter": {
     "outputs_hidden": true
    }
   },
   "outputs": [],
   "source": [
    "experiment.remove('beadscan')\n",
    "experiment.remove('beadscan_mod')"
   ]
  },
  {
   "cell_type": "code",
   "execution_count": null,
   "metadata": {
    "collapsed": false,
    "deletable": true,
    "editable": true,
    "jupyter": {
     "outputs_hidden": false
    }
   },
   "outputs": [],
   "source": [
    "name = 'attachment'\n",
    "group = 'attachment'\n",
    "parent = 'beadscan'\n",
    "\n",
    "experiment.add_group(name, parent, group_type=group)"
   ]
  },
  {
   "cell_type": "code",
   "execution_count": null,
   "metadata": {
    "collapsed": false,
    "deletable": true,
    "editable": true,
    "jupyter": {
     "outputs_hidden": false
    }
   },
   "outputs": [],
   "source": [
    "name = 'attachment_2nd'\n",
    "group = 'attachment'\n",
    "parent = 'attachment'\n",
    "\n",
    "experiment.add_group(name, parent, group_type=group)"
   ]
  },
  {
   "cell_type": "code",
   "execution_count": null,
   "metadata": {
    "collapsed": true,
    "jupyter": {
     "outputs_hidden": true
    }
   },
   "outputs": [],
   "source": [
    "name = 'baseline'\n",
    "group = 'baseline'\n",
    "parent = 'attachment_2nd'\n",
    "\n",
    "experiment.add_group(name, parent, group_type=group)"
   ]
  },
  {
   "cell_type": "code",
   "execution_count": null,
   "metadata": {
    "collapsed": false,
    "deletable": true,
    "editable": true,
    "jupyter": {
     "outputs_hidden": false
    }
   },
   "outputs": [],
   "source": [
    "name = 'rotation'\n",
    "group = 'rotation'\n",
    "parent = 'baseline'\n",
    "\n",
    "experiment.add_group(name, parent, group_type=group)"
   ]
  },
  {
   "cell_type": "code",
   "execution_count": null,
   "metadata": {
    "collapsed": false,
    "deletable": true,
    "editable": true,
    "jupyter": {
     "outputs_hidden": false
    }
   },
   "outputs": [],
   "source": [
    "name = 'rotation_2nd'\n",
    "group = 'rotation'\n",
    "parent = 'rotation'\n",
    "\n",
    "experiment.add_group(name, parent, group_type=group)"
   ]
  },
  {
   "cell_type": "markdown",
   "metadata": {
    "deletable": true,
    "editable": true
   },
   "source": [
    "## Select data to generate the results"
   ]
  },
  {
   "cell_type": "code",
   "execution_count": null,
   "metadata": {
    "collapsed": false,
    "deletable": true,
    "editable": true,
    "jupyter": {
     "outputs_hidden": false
    }
   },
   "outputs": [],
   "source": [
    "name = 'results'\n",
    "group = 'selection'\n",
    "parent = 'rotation_2nd'\n",
    "\n",
    "# traces used to select data from\n",
    "traces = ['psdXYZ', 'positionXYZ']\n",
    "\n",
    "results_region = experiment.add_group(name, parent, group_type=group, traces=traces)\n",
    "\n",
    "# Enable caching for results region, for faster data return\n",
    "experiment.set_cached_region(name)"
   ]
  },
  {
   "cell_type": "code",
   "execution_count": null,
   "metadata": {
    "collapsed": false,
    "deletable": true,
    "editable": true,
    "jupyter": {
     "outputs_hidden": false
    }
   },
   "outputs": [],
   "source": [
    "# Choose resolution for presentation of data (extension, force)\n",
    "resolution = 1000 # points/s resolution\n",
    "\n",
    "# Create Result objects to obtain force and extension\n",
    "tether = pyoti.create_tether(region=results_region, resolution=resolution)\n",
    "\n",
    "# Show the autodetected minima, maxima and sections\n",
    "#tether._sf.highest_frequency=32\n",
    "#tether._sf.reduce_false_positives = True\n",
    "#tether._sf.compare_time = 0.005\n",
    "tether.update()\n",
    "tether.init_rfig(legend=True)"
   ]
  },
  {
   "cell_type": "code",
   "execution_count": null,
   "metadata": {
    "collapsed": true,
    "deletable": true,
    "editable": true,
    "jupyter": {
     "outputs_hidden": true
    }
   },
   "outputs": [],
   "source": [
    "# Create force extension curves\n",
    "prefix = ''.join((os.path.splitext(os.path.basename(experiment.filename))[0], \"_\"))\n",
    "resultsdir = os.path.join(\"..\", \"results\")\n",
    "\n",
    "# Save force extension stress/release pair plots\n",
    "tether.save_force_extension_plots(directory=resultsdir,\n",
    "                                  file_prefix=prefix,\n",
    "                                  bps=9018)\n",
    "\n",
    "# Display saved force extension stress/release pair plots\n",
    "# pyoti.gui.browse_images(directory=resultsdir, prefix=prefix)"
   ]
  },
  {
   "cell_type": "code",
   "execution_count": null,
   "metadata": {
    "collapsed": true,
    "deletable": true,
    "editable": true,
    "jupyter": {
     "outputs_hidden": true
    }
   },
   "outputs": [],
   "source": [
    "# Display force extension stress/release pair plots\n",
    "tether.init_fe_fig()\n",
    "tether.show_force_extension_plots(bps=1399, autolimit=False)"
   ]
  },
  {
   "cell_type": "code",
   "execution_count": null,
   "metadata": {
    "collapsed": false,
    "deletable": true,
    "editable": true,
    "jupyter": {
     "outputs_hidden": false
    }
   },
   "outputs": [],
   "source": [
    "# plot Timecourse of Extension\n",
    "plt.close('all')\n",
    "plt.figure()\n",
    "plt.grid(True)\n",
    "\n",
    "# Timevector, extension and stress/release pairs\n",
    "t = tether.timevector\n",
    "e = tether.extension\n",
    "pl, ps = tether.stress_release_pairs()\n",
    "\n",
    "# Plot all stress/release extension/timevector sections\n",
    "for pl, ps in zip(pl, ps):\n",
    "    plt.plot(t[pl], e[pl] * 1000, 'g.', ms=1.0)\n",
    "    plt.plot(t[ps], e[ps] * 1000, 'r.', ms=1.0)\n",
    "\n",
    "plt.title('Timecourse of extension')\n",
    "plt.ylabel(\"Extension (nm)\")\n",
    "plt.xlabel(\"Time (s)\")\n",
    "\n",
    "plt.show(plt.gcf())\n",
    "plt.close()"
   ]
  },
  {
   "cell_type": "code",
   "execution_count": null,
   "metadata": {
    "collapsed": false,
    "deletable": true,
    "editable": true,
    "jupyter": {
     "outputs_hidden": false
    },
    "scrolled": true
   },
   "outputs": [],
   "source": [
    "plt.close('all')\n",
    "plt.figure()\n",
    "plt.grid(True)\n",
    "\n",
    "fXYZ = tether.forceXYZ\n",
    "rpl_ = tether.sections(direction='right', cycle='stress')\n",
    "lpl_ = tether.sections(direction='left', cycle='stress')\n",
    "\n",
    "for rpl in rpl_:\n",
    "    plt.plot(fXYZ[rpl, 1] * 1000, fXYZ[rpl, 2] * 1000, 'r')\n",
    "for lpl in lpl_:\n",
    "    plt.plot(fXYZ[lpl, 1] * 1000, fXYZ[lpl ,2] * 1000, 'g')\n",
    "\n",
    "excited_axis = results_region.excited_axis\n",
    "plt.xlabel(''.join((\"Force (\", excited_axis,\")\")))\n",
    "plt.ylabel(\"Force (Z)\")\n",
    "plt.title(\"Y vs. Z\")\n",
    "plt.show(plt.gcf())\n",
    "plt.close()"
   ]
  }
 ],
 "metadata": {
  "kernelspec": {
   "display_name": "Python 3",
   "language": "python",
   "name": "python3"
  },
  "language_info": {
   "codemirror_mode": {
    "name": "ipython",
    "version": 3
   },
   "file_extension": ".py",
   "mimetype": "text/x-python",
   "name": "python",
   "nbconvert_exporter": "python",
   "pygments_lexer": "ipython3",
   "version": "3.8.6"
  },
  "widgets": {
   "application/vnd.jupyter.widget-state+json": {
    "state": {},
    "version_major": 2,
    "version_minor": 0
   }
  }
 },
 "nbformat": 4,
 "nbformat_minor": 4
}
